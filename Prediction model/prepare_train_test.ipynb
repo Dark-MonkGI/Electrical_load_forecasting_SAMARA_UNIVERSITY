{
 "cells": [
  {
   "cell_type": "code",
   "execution_count": 123,
   "metadata": {},
   "outputs": [],
   "source": [
    "#read_data\n",
    "import pandas as pd\n",
    "df = pd.read_csv('AEP_hourly.csv', parse_dates=['Datetime'])\n",
    "df = df.rename(columns={'Datetime':'ds', 'AEP_MW':'y'})\n",
    "df = df.sort_values('ds')\n",
    "df = df.reset_index(drop=True)\n",
    "df = df.set_index('ds')\n",
    "df = df.resample('1D').sum().drop('2018-08-03')\n",
    "df = df['2005-01-01':]\n",
    "\n",
    "#split data\n",
    "train = df['2005-01-01':'2018-01-01'].reset_index()\n",
    "test = df['2018-01-01':'2018-07-01'].reset_index()\n",
    "\n",
    "train.to_csv('train.csv')\n",
    "test.to_csv('test.csv')"
   ]
  }
 ],
 "metadata": {
  "kernelspec": {
   "display_name": "Conda",
   "language": "python",
   "name": "conda"
  },
  "language_info": {
   "codemirror_mode": {
    "name": "ipython",
    "version": 3
   },
   "file_extension": ".py",
   "mimetype": "text/x-python",
   "name": "python",
   "nbconvert_exporter": "python",
   "pygments_lexer": "ipython3",
   "version": "3.9.13"
  },
  "orig_nbformat": 4
 },
 "nbformat": 4,
 "nbformat_minor": 2
}
